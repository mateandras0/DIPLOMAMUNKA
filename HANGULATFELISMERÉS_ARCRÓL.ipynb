{
  "nbformat": 4,
  "nbformat_minor": 0,
  "metadata": {
    "colab": {
      "provenance": [],
      "authorship_tag": "ABX9TyM1MoWRRFsXp/AfZhmeRpQw"
    },
    "kernelspec": {
      "name": "python3",
      "display_name": "Python 3"
    },
    "language_info": {
      "name": "python"
    }
  },
  "cells": [
    {
      "cell_type": "markdown",
      "source": [
        "Könyvtárak importálása"
      ],
      "metadata": {
        "id": "dGu_feoOrtfO"
      }
    },
    {
      "cell_type": "code",
      "execution_count": null,
      "metadata": {
        "id": "r7XaCMHtvL5F"
      },
      "outputs": [],
      "source": [
        "import cv2 # OpenCv könyvtár importálása\n",
        "import numpy as np # grafikonok megjelenítéséhez\n",
        "import matplotlib.pyplot as plt # grafikonok megjelenítéséhez\n",
        "import seaborn as sns # grafikonok megjelenítéséhez\n",
        "from google.colab.patches import cv2_imshow # képek megjelenítéséhez\n",
        "import zipfile # zip kicsomagoláshoz\n",
        "import tensorflow as tf\n",
        "from tensorflow import keras\n",
        "from keras.preprocessing.image import ImageDataGenerator #képek beolvasásához\n",
        "from keras.models import Sequential # tensorflow neurális háló létrehozásához\n",
        "from keras.layers import Dense, Dropout, Conv2D, MaxPooling2D, Flatten, BatchNormalization #neurális hálózati rétegek kialakításához\n"
      ]
    },
    {
      "cell_type": "markdown",
      "source": [
        "Csatlakozás a Google Drive-omhoz"
      ],
      "metadata": {
        "id": "tcuTs5Dhr3ED"
      }
    },
    {
      "cell_type": "code",
      "source": [
        "from google.colab import drive\n",
        "drive.mount('/content/drive')"
      ],
      "metadata": {
        "colab": {
          "base_uri": "https://localhost:8080/"
        },
        "id": "HmgV-pbCrlqv",
        "outputId": "33391150-b501-41f4-b8e4-0f73d023cdb7"
      },
      "execution_count": null,
      "outputs": [
        {
          "output_type": "stream",
          "name": "stdout",
          "text": [
            "Mounted at /content/drive\n"
          ]
        }
      ]
    },
    {
      "cell_type": "markdown",
      "source": [
        "adathalmazt tartalmazó zip könyvtár kicsomagolása"
      ],
      "metadata": {
        "id": "bCEgEUiQzpjY"
      }
    },
    {
      "cell_type": "code",
      "source": [
        "path = '/content/drive/MyDrive/Diplomamunka/dataset.zip'\n",
        "zip_file = zipfile.ZipFile(file=path, mode='r')\n",
        "zip_file.extractall('./')\n",
        "zip_file.close()"
      ],
      "metadata": {
        "id": "k9KsRwVCzpPO"
      },
      "execution_count": null,
      "outputs": []
    },
    {
      "cell_type": "markdown",
      "source": [
        "Tanuló és teszt adathalmaz létrehozása"
      ],
      "metadata": {
        "id": "q_m4YEPaylzg"
      }
    },
    {
      "cell_type": "code",
      "source": [
        "training_generator = ImageDataGenerator(1./255, rotation_range=7, horizontal_flip=True, zoom_range=0.2)\n",
        "train_dataset = training_generator.flow_from_directory('/content/dataset/train', target_size=(48,48), batch_size=16, class_mode='categorical', shuffle=True)"
      ],
      "metadata": {
        "colab": {
          "base_uri": "https://localhost:8080/"
        },
        "id": "od-7p87jykmk",
        "outputId": "74d5fd1e-323c-4c19-b127-c89a8d1fe147"
      },
      "execution_count": null,
      "outputs": [
        {
          "output_type": "stream",
          "name": "stdout",
          "text": [
            "Found 28709 images belonging to 7 classes.\n"
          ]
        }
      ]
    },
    {
      "cell_type": "markdown",
      "source": [
        "Osztályok és bennük lévő képek száma:"
      ],
      "metadata": {
        "id": "LRjTiRQk2EFp"
      }
    },
    {
      "cell_type": "code",
      "source": [
        "np.unique(train_dataset.classes, return_counts=True)"
      ],
      "metadata": {
        "colab": {
          "base_uri": "https://localhost:8080/"
        },
        "id": "ZRuViKrQ2IwI",
        "outputId": "4dcdf45a-6f6e-4d0b-876c-e24be44b0a83"
      },
      "execution_count": null,
      "outputs": [
        {
          "output_type": "execute_result",
          "data": {
            "text/plain": [
              "(array([0, 1, 2, 3, 4, 5, 6], dtype=int32),\n",
              " array([3995,  436, 4097, 7215, 4965, 4830, 3171]))"
            ]
          },
          "metadata": {},
          "execution_count": 6
        }
      ]
    },
    {
      "cell_type": "markdown",
      "source": [
        "Osztálycímkék:"
      ],
      "metadata": {
        "id": "KURXjBAZ2cgo"
      }
    },
    {
      "cell_type": "code",
      "source": [
        "train_dataset.class_indices"
      ],
      "metadata": {
        "colab": {
          "base_uri": "https://localhost:8080/"
        },
        "id": "URT-LVOP2euM",
        "outputId": "7434d50f-30a3-486b-d9e4-30d1ded51558"
      },
      "execution_count": null,
      "outputs": [
        {
          "output_type": "execute_result",
          "data": {
            "text/plain": [
              "{'angry': 0,\n",
              " 'disgust': 1,\n",
              " 'fear': 2,\n",
              " 'happy': 3,\n",
              " 'neutral': 4,\n",
              " 'sad': 5,\n",
              " 'surprise': 6}"
            ]
          },
          "metadata": {},
          "execution_count": 7
        }
      ]
    },
    {
      "cell_type": "code",
      "source": [
        "sns.countplot(x = train_dataset.classes)"
      ],
      "metadata": {
        "colab": {
          "base_uri": "https://localhost:8080/",
          "height": 447
        },
        "id": "MZem8CdC2uFB",
        "outputId": "f85d0234-7093-4ec5-b7f8-62750451e048"
      },
      "execution_count": null,
      "outputs": [
        {
          "output_type": "execute_result",
          "data": {
            "text/plain": [
              "<Axes: ylabel='count'>"
            ]
          },
          "metadata": {},
          "execution_count": 8
        },
        {
          "output_type": "display_data",
          "data": {
            "text/plain": [
              "<Figure size 640x480 with 1 Axes>"
            ],
            "image/png": "[encoded data removed]"
          },
          "metadata": {}
        }
      ]
    },
    {
      "cell_type": "code",
      "source": [
        "test_generator = ImageDataGenerator(rescale=1./255)\n",
        "test_dataset = test_generator.flow_from_directory('/content/dataset/test', target_size=(48,48), batch_size=1, class_mode='categorical', shuffle=False)"
      ],
      "metadata": {
        "colab": {
          "base_uri": "https://localhost:8080/"
        },
        "id": "o90OyZgy3s6J",
        "outputId": "d3cce8ee-3ffa-48a0-d3ee-f69c354120b8"
      },
      "execution_count": null,
      "outputs": [
        {
          "output_type": "stream",
          "name": "stdout",
          "text": [
            "Found 7178 images belonging to 7 classes.\n"
          ]
        }
      ]
    },
    {
      "cell_type": "code",
      "source": [
        "# Based on: https://github.com/rajeevratan84/DeepLearningCV/blob/master/18.2%20Building%20an%20Emotion%20Detector%20with%20LittleVGG.ipynb\n",
        "# Padding: https://www.pico.net/kb/what-is-the-difference-between-same-and-valid-padding-in-tf-nn-max-pool-of-tensorflow\n",
        "# BatchNormalization: https://keras.io/api/layers/normalization_layers/batch_normalization/\n",
        "# Dropout: https://jmlr.org/papers/volume15/srivastava14a.old/srivastava14a.pdf\n",
        "num_detectors = 32\n",
        "num_classes = 7\n",
        "width, height = 48,48\n",
        "epochs = 100\n",
        "\n",
        "network = Sequential()\n",
        "\n",
        "network.add(Conv2D( num_detectors, (3,3), activation='relu', padding = 'same', input_shape = (width, height, 3) ))\n",
        "network.add(BatchNormalization())\n",
        "network.add(Conv2D( num_detectors, (3,3), activation='relu', padding = 'same' ))\n",
        "network.add(BatchNormalization())\n",
        "network.add(MaxPooling2D( pool_size=(2,2) ))\n",
        "network.add(Dropout(0.2))\n",
        "\n",
        "network.add(Conv2D( 2 * num_detectors, (3,3), activation='relu', padding = 'same' ))\n",
        "network.add(BatchNormalization())\n",
        "network.add(Conv2D( 2 * num_detectors, (3,3), activation='relu', padding = 'same' ))\n",
        "network.add(BatchNormalization())\n",
        "network.add(MaxPooling2D( pool_size=(2,2) ))\n",
        "network.add(Dropout(0.2))\n",
        "\n",
        "network.add(Conv2D( 2 * 2 * num_detectors, (3,3), activation='relu', padding = 'same' ))\n",
        "network.add(BatchNormalization())\n",
        "network.add(Conv2D( 2 * 2 * num_detectors, (3,3), activation='relu', padding = 'same' ))\n",
        "network.add(BatchNormalization())\n",
        "network.add(MaxPooling2D( pool_size=(2,2) ))\n",
        "network.add(Dropout(0.2))\n",
        "\n",
        "network.add(Conv2D( 2 * 2 * 2 * num_detectors, (3,3), activation='relu', padding = 'same' ))\n",
        "network.add(BatchNormalization())\n",
        "network.add(Conv2D( 2 * 2 * 2 * num_detectors, (3,3), activation='relu', padding = 'same' ))\n",
        "network.add(BatchNormalization())\n",
        "network.add(MaxPooling2D( pool_size=(2,2) ))\n",
        "network.add(Dropout(0.2))\n",
        "\n",
        "network.add(Flatten())  # a létrejött mátrix vektorrá alakítása\n",
        "\n",
        "network.add(Dense(2 * num_detectors, activation='relu'))\n",
        "network.add(BatchNormalization())\n",
        "network.add(Dropout(0.2))\n",
        "\n",
        "network.add(Dense(2 * num_detectors, activation='relu'))\n",
        "network.add(BatchNormalization())\n",
        "network.add(Dropout(0.2))\n",
        "\n",
        "network.add(Dense(num_classes, activation='softmax'))\n",
        "print(network.summary())\n",
        "\n"
      ],
      "metadata": {
        "colab": {
          "base_uri": "https://localhost:8080/"
        },
        "id": "qxkkbxgyr6ue",
        "outputId": "05382756-a3eb-44ac-df71-f2e02374343b"
      },
      "execution_count": null,
      "outputs": [
        {
          "output_type": "stream",
          "name": "stdout",
          "text": [
            "Model: \"sequential\"\n",
            "_________________________________________________________________\n",
            " Layer (type)                Output Shape              Param #   \n",
            "=================================================================\n",
            " conv2d (Conv2D)             (None, 48, 48, 32)        896       \n",
            "                                                                 \n",
            " batch_normalization (Batch  (None, 48, 48, 32)        128       \n",
            " Normalization)                                                  \n",
            "                                                                 \n",
            " conv2d_1 (Conv2D)           (None, 48, 48, 32)        9248      \n",
            "                                                                 \n",
            " batch_normalization_1 (Bat  (None, 48, 48, 32)        128       \n",
            " chNormalization)                                                \n",
            "                                                                 \n",
            " max_pooling2d (MaxPooling2  (None, 24, 24, 32)        0         \n",
            " D)                                                              \n",
            "                                                                 \n",
            " dropout (Dropout)           (None, 24, 24, 32)        0         \n",
            "                                                                 \n",
            " conv2d_2 (Conv2D)           (None, 24, 24, 64)        18496     \n",
            "                                                                 \n",
            " batch_normalization_2 (Bat  (None, 24, 24, 64)        256       \n",
            " chNormalization)                                                \n",
            "                                                                 \n",
            " conv2d_3 (Conv2D)           (None, 24, 24, 64)        36928     \n",
            "                                                                 \n",
            " batch_normalization_3 (Bat  (None, 24, 24, 64)        256       \n",
            " chNormalization)                                                \n",
            "                                                                 \n",
            " max_pooling2d_1 (MaxPoolin  (None, 12, 12, 64)        0         \n",
            " g2D)                                                            \n",
            "                                                                 \n",
            " dropout_1 (Dropout)         (None, 12, 12, 64)        0         \n",
            "                                                                 \n",
            " conv2d_4 (Conv2D)           (None, 12, 12, 128)       73856     \n",
            "                                                                 \n",
            " batch_normalization_4 (Bat  (None, 12, 12, 128)       512       \n",
            " chNormalization)                                                \n",
            "                                                                 \n",
            " conv2d_5 (Conv2D)           (None, 12, 12, 128)       147584    \n",
            "                                                                 \n",
            " batch_normalization_5 (Bat  (None, 12, 12, 128)       512       \n",
            " chNormalization)                                                \n",
            "                                                                 \n",
            " max_pooling2d_2 (MaxPoolin  (None, 6, 6, 128)         0         \n",
            " g2D)                                                            \n",
            "                                                                 \n",
            " dropout_2 (Dropout)         (None, 6, 6, 128)         0         \n",
            "                                                                 \n",
            " conv2d_6 (Conv2D)           (None, 6, 6, 256)         295168    \n",
            "                                                                 \n",
            " batch_normalization_6 (Bat  (None, 6, 6, 256)         1024      \n",
            " chNormalization)                                                \n",
            "                                                                 \n",
            " conv2d_7 (Conv2D)           (None, 6, 6, 256)         590080    \n",
            "                                                                 \n",
            " batch_normalization_7 (Bat  (None, 6, 6, 256)         1024      \n",
            " chNormalization)                                                \n",
            "                                                                 \n",
            " max_pooling2d_3 (MaxPoolin  (None, 3, 3, 256)         0         \n",
            " g2D)                                                            \n",
            "                                                                 \n",
            " dropout_3 (Dropout)         (None, 3, 3, 256)         0         \n",
            "                                                                 \n",
            " flatten (Flatten)           (None, 2304)              0         \n",
            "                                                                 \n",
            " dense (Dense)               (None, 64)                147520    \n",
            "                                                                 \n",
            " batch_normalization_8 (Bat  (None, 64)                256       \n",
            " chNormalization)                                                \n",
            "                                                                 \n",
            " dropout_4 (Dropout)         (None, 64)                0         \n",
            "                                                                 \n",
            " dense_1 (Dense)             (None, 64)                4160      \n",
            "                                                                 \n",
            " batch_normalization_9 (Bat  (None, 64)                256       \n",
            " chNormalization)                                                \n",
            "                                                                 \n",
            " dropout_5 (Dropout)         (None, 64)                0         \n",
            "                                                                 \n",
            " dense_2 (Dense)             (None, 7)                 455       \n",
            "                                                                 \n",
            "=================================================================\n",
            "Total params: 1328743 (5.07 MB)\n",
            "Trainable params: 1326567 (5.06 MB)\n",
            "Non-trainable params: 2176 (8.50 KB)\n",
            "_________________________________________________________________\n",
            "None\n"
          ]
        }
      ]
    },
    {
      "cell_type": "code",
      "source": [
        "network.compile(optimizer='Adam', loss='categorical_crossentropy', metrics=['accuracy'])\n",
        "network.fit(train_dataset, epochs=130)"
      ],
      "metadata": {
        "colab": {
          "base_uri": "https://localhost:8080/"
        },
        "id": "cJ6UQ8cLyJi0",
        "outputId": "a3b715a3-20ce-4c58-b092-fa019c67899d"
      },
      "execution_count": null,
      "outputs": [
        {
          "metadata": {
            "tags": null
          },
          "name": "stderr",
          "output_type": "stream",
          "text": [
            "/usr/local/lib/python3.10/dist-packages/keras/src/preprocessing/image.py:1861: UserWarning: This ImageDataGenerator specifies `featurewise_center`, but it hasn't been fit on any training data. Fit it first by calling `.fit(numpy_data)`.\n",
            "  warnings.warn(\n"
          ]
        },
        {
          "output_type": "stream",
          "name": "stdout",
          "text": [
            "Epoch 1/130\n",
            "1795/1795 [==============================] - 807s 446ms/step - loss: 1.8765 - accuracy: 0.2553\n",
            "Epoch 2/130\n",
            "1795/1795 [==============================] - 783s 436ms/step - loss: 1.5995 - accuracy: 0.3764\n",
            "Epoch 3/130\n",
            "1795/1795 [==============================] - 787s 438ms/step - loss: 1.4293 - accuracy: 0.4495\n",
            "Epoch 4/130\n",
            "1795/1795 [==============================] - 788s 439ms/step - loss: 1.3418 - accuracy: 0.4863\n",
            "Epoch 5/130\n",
            "1795/1795 [==============================] - 787s 438ms/step - loss: 1.2840 - accuracy: 0.5161\n",
            "Epoch 6/130\n",
            "1795/1795 [==============================] - 786s 438ms/step - loss: 1.2371 - accuracy: 0.5339\n",
            "Epoch 7/130\n",
            "1683/1795 [===========================>..] - ETA: 47s - loss: 1.2028 - accuracy: 0.5494"
          ]
        }
      ]
    }
  ]
}